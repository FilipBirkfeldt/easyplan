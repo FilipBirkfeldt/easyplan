{
 "metadata": {
  "language_info": {
   "codemirror_mode": {
    "name": "ipython",
    "version": 3
   },
   "file_extension": ".py",
   "mimetype": "text/x-python",
   "name": "python",
   "nbconvert_exporter": "python",
   "pygments_lexer": "ipython3",
   "version": "3.8.3-final"
  },
  "orig_nbformat": 2,
  "kernelspec": {
   "name": "python3",
   "display_name": "Python 3.8.3 64-bit ('base': conda)",
   "metadata": {
    "interpreter": {
     "hash": "344443636c3027c5042750c9c609acdda283a9c43681b128a8c1053e7ad2aa7d"
    }
   }
  }
 },
 "nbformat": 4,
 "nbformat_minor": 2,
 "cells": [
  {
   "cell_type": "code",
   "execution_count": 46,
   "metadata": {},
   "outputs": [],
   "source": [
    "import pandas as pd \n",
    "import numpy as np \n"
   ]
  },
  {
   "cell_type": "code",
   "execution_count": 47,
   "metadata": {},
   "outputs": [],
   "source": [
    "def readInData(): \n",
    "    \"Reads in the data needed - Currently courses at M\"\n",
    "    df_13 = pd.read_excel('/Users/filipbirkfeldt/git/easyplan/checkPoints_graduation/data_Poäng/dataM.xlsx', sheet_name='1-3')\n",
    "    df_specialiseringar = pd.read_excel('/Users/filipbirkfeldt/git/easyplan/checkPoints_graduation/data_Poäng/dataM.xlsx',\n",
    "sheet_name='Specialiseringar')\n",
    "    df_ValfriaM = pd.read_excel('/Users/filipbirkfeldt/git/easyplan/checkPoints_graduation/data_Poäng/dataM.xlsx', sheet_name='Valfria_M')\n",
    "\n",
    "    courses_df = df_13.append(df_specialiseringar)\n",
    "    courses_df = courses_df.append(df_ValfriaM)\n",
    "\n",
    "    courses_df.rename(columns={'Kurskod':'Kurskod'}, inplace=True)\n",
    "    courses_df['Poäng'] = courses_df['Poäng'].fillna(0)\n",
    "    courses_df['Poäng'] = courses_df['Poäng'].apply(lambda x:float(x))\n",
    "    return courses_df\n"
   ]
  },
  {
   "cell_type": "code",
   "execution_count": 48,
   "metadata": {},
   "outputs": [
    {
     "output_type": "stream",
     "name": "stdout",
     "text": [
      "Index(['Kurskod', 'Poäng', 'Nivå', 'LUt', 'Språk', 'Kursnamn', 'Fot­not',\n       'Länkar', 'Unnamed: 8', 'lp1', 'lp2', 'lp3', 'lp4', 'Typ',\n       'Obl./ valfr.', 'Ingår i åk', 'Fr. åk', 'Unnamed: 11', 'Unnamed: 10'],\n      dtype='object')\n"
     ]
    },
    {
     "output_type": "execute_result",
     "data": {
      "text/plain": [
       "  Kurskod  Poäng Nivå LUt Språk                        Kursnamn Fot­not  \\\n",
       "0  FMAB45    5.0   G1   -     S        Endimensionell analys A1     NaN   \n",
       "1  MMKA25    6.0   G1   -     S    Ritteknik/datorstödd ritning     NaN   \n",
       "2  MMTA02    6.0   G1   -     S  Introduktion till maskinteknik     NaN   \n",
       "3  FMAB50    5.0   G1   -     S        Endimensionell analys A2     NaN   \n",
       "4  FMAB20    6.0   G1   -     S                  Linjär algebra     NaN   \n",
       "\n",
       "        Länkar  Unnamed: 8  lp1  lp2  lp3  lp4 Typ Obl./ valfr.  Ingår i åk  \\\n",
       "0  KS KE U W T         NaN    1  NaN  NaN  NaN   1          NaN         NaN   \n",
       "1  KS KE U W T         NaN    1  NaN  NaN  NaN   1          NaN         NaN   \n",
       "2  KS KE U W T         NaN    1  2.0  NaN  NaN   1          NaN         NaN   \n",
       "3  KS KE U W T         NaN  NaN  2.0  NaN  NaN   1          NaN         NaN   \n",
       "4  KS KE U W T         NaN  NaN  2.0  NaN  NaN   1          NaN         NaN   \n",
       "\n",
       "   Fr. åk  Unnamed: 11  Unnamed: 10  \n",
       "0     NaN          NaN          NaN  \n",
       "1     NaN          NaN          NaN  \n",
       "2     NaN          NaN          NaN  \n",
       "3     NaN          NaN          NaN  \n",
       "4     NaN          NaN          NaN  "
      ],
      "text/html": "<div>\n<style scoped>\n    .dataframe tbody tr th:only-of-type {\n        vertical-align: middle;\n    }\n\n    .dataframe tbody tr th {\n        vertical-align: top;\n    }\n\n    .dataframe thead th {\n        text-align: right;\n    }\n</style>\n<table border=\"1\" class=\"dataframe\">\n  <thead>\n    <tr style=\"text-align: right;\">\n      <th></th>\n      <th>Kurskod</th>\n      <th>Poäng</th>\n      <th>Nivå</th>\n      <th>LUt</th>\n      <th>Språk</th>\n      <th>Kursnamn</th>\n      <th>Fot­not</th>\n      <th>Länkar</th>\n      <th>Unnamed: 8</th>\n      <th>lp1</th>\n      <th>lp2</th>\n      <th>lp3</th>\n      <th>lp4</th>\n      <th>Typ</th>\n      <th>Obl./ valfr.</th>\n      <th>Ingår i åk</th>\n      <th>Fr. åk</th>\n      <th>Unnamed: 11</th>\n      <th>Unnamed: 10</th>\n    </tr>\n  </thead>\n  <tbody>\n    <tr>\n      <th>0</th>\n      <td>FMAB45</td>\n      <td>5.0</td>\n      <td>G1</td>\n      <td>-</td>\n      <td>S</td>\n      <td>Endimensionell analys A1</td>\n      <td>NaN</td>\n      <td>KS KE U W T</td>\n      <td>NaN</td>\n      <td>1</td>\n      <td>NaN</td>\n      <td>NaN</td>\n      <td>NaN</td>\n      <td>1</td>\n      <td>NaN</td>\n      <td>NaN</td>\n      <td>NaN</td>\n      <td>NaN</td>\n      <td>NaN</td>\n    </tr>\n    <tr>\n      <th>1</th>\n      <td>MMKA25</td>\n      <td>6.0</td>\n      <td>G1</td>\n      <td>-</td>\n      <td>S</td>\n      <td>Ritteknik/datorstödd ritning</td>\n      <td>NaN</td>\n      <td>KS KE U W T</td>\n      <td>NaN</td>\n      <td>1</td>\n      <td>NaN</td>\n      <td>NaN</td>\n      <td>NaN</td>\n      <td>1</td>\n      <td>NaN</td>\n      <td>NaN</td>\n      <td>NaN</td>\n      <td>NaN</td>\n      <td>NaN</td>\n    </tr>\n    <tr>\n      <th>2</th>\n      <td>MMTA02</td>\n      <td>6.0</td>\n      <td>G1</td>\n      <td>-</td>\n      <td>S</td>\n      <td>Introduktion till maskinteknik</td>\n      <td>NaN</td>\n      <td>KS KE U W T</td>\n      <td>NaN</td>\n      <td>1</td>\n      <td>2.0</td>\n      <td>NaN</td>\n      <td>NaN</td>\n      <td>1</td>\n      <td>NaN</td>\n      <td>NaN</td>\n      <td>NaN</td>\n      <td>NaN</td>\n      <td>NaN</td>\n    </tr>\n    <tr>\n      <th>3</th>\n      <td>FMAB50</td>\n      <td>5.0</td>\n      <td>G1</td>\n      <td>-</td>\n      <td>S</td>\n      <td>Endimensionell analys A2</td>\n      <td>NaN</td>\n      <td>KS KE U W T</td>\n      <td>NaN</td>\n      <td>NaN</td>\n      <td>2.0</td>\n      <td>NaN</td>\n      <td>NaN</td>\n      <td>1</td>\n      <td>NaN</td>\n      <td>NaN</td>\n      <td>NaN</td>\n      <td>NaN</td>\n      <td>NaN</td>\n    </tr>\n    <tr>\n      <th>4</th>\n      <td>FMAB20</td>\n      <td>6.0</td>\n      <td>G1</td>\n      <td>-</td>\n      <td>S</td>\n      <td>Linjär algebra</td>\n      <td>NaN</td>\n      <td>KS KE U W T</td>\n      <td>NaN</td>\n      <td>NaN</td>\n      <td>2.0</td>\n      <td>NaN</td>\n      <td>NaN</td>\n      <td>1</td>\n      <td>NaN</td>\n      <td>NaN</td>\n      <td>NaN</td>\n      <td>NaN</td>\n      <td>NaN</td>\n    </tr>\n  </tbody>\n</table>\n</div>"
     },
     "metadata": {},
     "execution_count": 48
    }
   ],
   "source": [
    "df = readInData()\n",
    "print(df.columns)\n",
    "df.head()"
   ]
  },
  {
   "cell_type": "code",
   "execution_count": 49,
   "metadata": {},
   "outputs": [],
   "source": [
    "df = df.drop(columns = ['LUt', 'Språk', 'Fot­not', 'Unnamed: 8', 'Unnamed: 10', 'Unnamed: 11', 'Länkar'])"
   ]
  },
  {
   "cell_type": "code",
   "execution_count": 50,
   "metadata": {},
   "outputs": [
    {
     "output_type": "execute_result",
     "data": {
      "text/plain": [
       "  Kurskod  Poäng Nivå                        Kursnamn  lp1  lp2  lp3  lp4 Typ  \\\n",
       "0  FMAB45    5.0   G1        Endimensionell analys A1    1  NaN  NaN  NaN   1   \n",
       "1  MMKA25    6.0   G1    Ritteknik/datorstödd ritning    1  NaN  NaN  NaN   1   \n",
       "2  MMTA02    6.0   G1  Introduktion till maskinteknik    1  2.0  NaN  NaN   1   \n",
       "3  FMAB50    5.0   G1        Endimensionell analys A2  NaN  2.0  NaN  NaN   1   \n",
       "4  FMAB20    6.0   G1                  Linjär algebra  NaN  2.0  NaN  NaN   1   \n",
       "\n",
       "  Obl./ valfr.  Ingår i åk  Fr. åk  \n",
       "0          NaN         NaN     NaN  \n",
       "1          NaN         NaN     NaN  \n",
       "2          NaN         NaN     NaN  \n",
       "3          NaN         NaN     NaN  \n",
       "4          NaN         NaN     NaN  "
      ],
      "text/html": "<div>\n<style scoped>\n    .dataframe tbody tr th:only-of-type {\n        vertical-align: middle;\n    }\n\n    .dataframe tbody tr th {\n        vertical-align: top;\n    }\n\n    .dataframe thead th {\n        text-align: right;\n    }\n</style>\n<table border=\"1\" class=\"dataframe\">\n  <thead>\n    <tr style=\"text-align: right;\">\n      <th></th>\n      <th>Kurskod</th>\n      <th>Poäng</th>\n      <th>Nivå</th>\n      <th>Kursnamn</th>\n      <th>lp1</th>\n      <th>lp2</th>\n      <th>lp3</th>\n      <th>lp4</th>\n      <th>Typ</th>\n      <th>Obl./ valfr.</th>\n      <th>Ingår i åk</th>\n      <th>Fr. åk</th>\n    </tr>\n  </thead>\n  <tbody>\n    <tr>\n      <th>0</th>\n      <td>FMAB45</td>\n      <td>5.0</td>\n      <td>G1</td>\n      <td>Endimensionell analys A1</td>\n      <td>1</td>\n      <td>NaN</td>\n      <td>NaN</td>\n      <td>NaN</td>\n      <td>1</td>\n      <td>NaN</td>\n      <td>NaN</td>\n      <td>NaN</td>\n    </tr>\n    <tr>\n      <th>1</th>\n      <td>MMKA25</td>\n      <td>6.0</td>\n      <td>G1</td>\n      <td>Ritteknik/datorstödd ritning</td>\n      <td>1</td>\n      <td>NaN</td>\n      <td>NaN</td>\n      <td>NaN</td>\n      <td>1</td>\n      <td>NaN</td>\n      <td>NaN</td>\n      <td>NaN</td>\n    </tr>\n    <tr>\n      <th>2</th>\n      <td>MMTA02</td>\n      <td>6.0</td>\n      <td>G1</td>\n      <td>Introduktion till maskinteknik</td>\n      <td>1</td>\n      <td>2.0</td>\n      <td>NaN</td>\n      <td>NaN</td>\n      <td>1</td>\n      <td>NaN</td>\n      <td>NaN</td>\n      <td>NaN</td>\n    </tr>\n    <tr>\n      <th>3</th>\n      <td>FMAB50</td>\n      <td>5.0</td>\n      <td>G1</td>\n      <td>Endimensionell analys A2</td>\n      <td>NaN</td>\n      <td>2.0</td>\n      <td>NaN</td>\n      <td>NaN</td>\n      <td>1</td>\n      <td>NaN</td>\n      <td>NaN</td>\n      <td>NaN</td>\n    </tr>\n    <tr>\n      <th>4</th>\n      <td>FMAB20</td>\n      <td>6.0</td>\n      <td>G1</td>\n      <td>Linjär algebra</td>\n      <td>NaN</td>\n      <td>2.0</td>\n      <td>NaN</td>\n      <td>NaN</td>\n      <td>1</td>\n      <td>NaN</td>\n      <td>NaN</td>\n      <td>NaN</td>\n    </tr>\n  </tbody>\n</table>\n</div>"
     },
     "metadata": {},
     "execution_count": 50
    }
   ],
   "source": [
    "df.head()"
   ]
  },
  {
   "cell_type": "code",
   "execution_count": 52,
   "metadata": {},
   "outputs": [],
   "source": [
    "df.to_excel('/Users/filipbirkfeldt/git/easyplan/checkPoints_graduation/data_Poäng/table2db.xlsx', index=False)"
   ]
  },
  {
   "cell_type": "code",
   "execution_count": 58,
   "metadata": {},
   "outputs": [
    {
     "output_type": "execute_result",
     "data": {
      "text/plain": [
       "  Kurskod  Poang Niva                        Kursnamn  lp1  lp2  lp3  lp4 Typ  \\\n",
       "0  FMAB45    5.0   G1        Endimensionell analys A1    1  NaN  NaN  NaN   1   \n",
       "1  MMKA25    6.0   G1    Ritteknik/datorstödd ritning    1  NaN  NaN  NaN   1   \n",
       "2  MMTA02    6.0   G1  Introduktion till maskinteknik    1  2.0  NaN  NaN   1   \n",
       "3  FMAB50    5.0   G1        Endimensionell analys A2  NaN  2.0  NaN  NaN   1   \n",
       "4  FMAB20    6.0   G1                  Linjär algebra  NaN  2.0  NaN  NaN   1   \n",
       "\n",
       "  Obl_valfr  InAk  FromYear  \n",
       "0       NaN   NaN       NaN  \n",
       "1       NaN   NaN       NaN  \n",
       "2       NaN   NaN       NaN  \n",
       "3       NaN   NaN       NaN  \n",
       "4       NaN   NaN       NaN  "
      ],
      "text/html": "<div>\n<style scoped>\n    .dataframe tbody tr th:only-of-type {\n        vertical-align: middle;\n    }\n\n    .dataframe tbody tr th {\n        vertical-align: top;\n    }\n\n    .dataframe thead th {\n        text-align: right;\n    }\n</style>\n<table border=\"1\" class=\"dataframe\">\n  <thead>\n    <tr style=\"text-align: right;\">\n      <th></th>\n      <th>Kurskod</th>\n      <th>Poang</th>\n      <th>Niva</th>\n      <th>Kursnamn</th>\n      <th>lp1</th>\n      <th>lp2</th>\n      <th>lp3</th>\n      <th>lp4</th>\n      <th>Typ</th>\n      <th>Obl_valfr</th>\n      <th>InAk</th>\n      <th>FromYear</th>\n    </tr>\n  </thead>\n  <tbody>\n    <tr>\n      <th>0</th>\n      <td>FMAB45</td>\n      <td>5.0</td>\n      <td>G1</td>\n      <td>Endimensionell analys A1</td>\n      <td>1</td>\n      <td>NaN</td>\n      <td>NaN</td>\n      <td>NaN</td>\n      <td>1</td>\n      <td>NaN</td>\n      <td>NaN</td>\n      <td>NaN</td>\n    </tr>\n    <tr>\n      <th>1</th>\n      <td>MMKA25</td>\n      <td>6.0</td>\n      <td>G1</td>\n      <td>Ritteknik/datorstödd ritning</td>\n      <td>1</td>\n      <td>NaN</td>\n      <td>NaN</td>\n      <td>NaN</td>\n      <td>1</td>\n      <td>NaN</td>\n      <td>NaN</td>\n      <td>NaN</td>\n    </tr>\n    <tr>\n      <th>2</th>\n      <td>MMTA02</td>\n      <td>6.0</td>\n      <td>G1</td>\n      <td>Introduktion till maskinteknik</td>\n      <td>1</td>\n      <td>2.0</td>\n      <td>NaN</td>\n      <td>NaN</td>\n      <td>1</td>\n      <td>NaN</td>\n      <td>NaN</td>\n      <td>NaN</td>\n    </tr>\n    <tr>\n      <th>3</th>\n      <td>FMAB50</td>\n      <td>5.0</td>\n      <td>G1</td>\n      <td>Endimensionell analys A2</td>\n      <td>NaN</td>\n      <td>2.0</td>\n      <td>NaN</td>\n      <td>NaN</td>\n      <td>1</td>\n      <td>NaN</td>\n      <td>NaN</td>\n      <td>NaN</td>\n    </tr>\n    <tr>\n      <th>4</th>\n      <td>FMAB20</td>\n      <td>6.0</td>\n      <td>G1</td>\n      <td>Linjär algebra</td>\n      <td>NaN</td>\n      <td>2.0</td>\n      <td>NaN</td>\n      <td>NaN</td>\n      <td>1</td>\n      <td>NaN</td>\n      <td>NaN</td>\n      <td>NaN</td>\n    </tr>\n  </tbody>\n</table>\n</div>"
     },
     "metadata": {},
     "execution_count": 58
    }
   ],
   "source": [
    "df = pd.read_excel('/Users/filipbirkfeldt/Desktop/table2db.xlsx')\n",
    "df.rename(columns={'Poäng':'Poang', 'Nivå':'Niva', 'Obl./ valfr.':'Obl_valfr', 'Ingår i åk': 'InAk', 'Fr. åk':'FromYear'}, inplace=True)\n",
    "df.head()"
   ]
  },
  {
   "cell_type": "code",
   "execution_count": 59,
   "metadata": {},
   "outputs": [
    {
     "output_type": "stream",
     "name": "stdout",
     "text": [
      "nan\n<class 'numpy.float64'>\n"
     ]
    }
   ],
   "source": [
    "print(df.FromYear.iloc[0])\n",
    "print(type(df.FromYear.iloc[0]))"
   ]
  },
  {
   "cell_type": "code",
   "execution_count": 60,
   "metadata": {},
   "outputs": [],
   "source": [
    "df.to_csv('/Users/filipbirkfeldt/Desktop/table2db.csv', index=False)"
   ]
  },
  {
   "cell_type": "code",
   "execution_count": null,
   "metadata": {},
   "outputs": [],
   "source": []
  }
 ]
}